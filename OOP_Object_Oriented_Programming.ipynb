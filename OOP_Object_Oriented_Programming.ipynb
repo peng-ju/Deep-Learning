{
 "cells": [
  {
   "cell_type": "markdown",
   "id": "09d8cc46",
   "metadata": {},
   "source": [
    "### This is a small pratice project for OOP with python"
   ]
  },
  {
   "cell_type": "markdown",
   "id": "14afef51",
   "metadata": {},
   "source": [
    "### 1, create a class Sequence"
   ]
  },
  {
   "cell_type": "code",
   "execution_count": 3,
   "id": "c376e522",
   "metadata": {},
   "outputs": [],
   "source": [
    "class Sequence(object):\n",
    "    def __init__(self, arr):\n",
    "        self.arr = arr"
   ]
  },
  {
   "cell_type": "markdown",
   "id": "607e054a",
   "metadata": {},
   "source": [
    "### 2. Create a subclass of Sequence called Fibonacci\n",
    "### 3. Make class Fibonacci callable"
   ]
  },
  {
   "cell_type": "code",
   "execution_count": 4,
   "id": "069f75a7",
   "metadata": {},
   "outputs": [
    {
     "data": {
      "text/plain": [
       "[1, 2, 3, 5, 8]"
      ]
     },
     "execution_count": 4,
     "metadata": {},
     "output_type": "execute_result"
    }
   ],
   "source": [
    "class Fibonacci(Sequence):\n",
    "    def __init__(self, first_value, second_value):\n",
    "        Sequence.__init__(self, [first_value, second_value])\n",
    "        # re-use baseclass __init__\n",
    "    \n",
    "    def __call__(self, length):\n",
    "        # create Fibonacci sequence\n",
    "        if length <=2:\n",
    "            return self.arr[:length]\n",
    "        else:\n",
    "            for _ in range(length-2):\n",
    "                self.arr.append(self.arr[-1] + self.arr[-2])\n",
    "            return self.arr\n",
    "\n",
    "FS = Fibonacci(first_value = 1, second_value = 2)\n",
    "FS(length = 5)"
   ]
  },
  {
   "cell_type": "markdown",
   "id": "64d3bd0a",
   "metadata": {},
   "source": [
    "### 4. Make Fibonacci class iterable by adding a iterator class\n"
   ]
  },
  {
   "cell_type": "code",
   "execution_count": 5,
   "id": "29662779",
   "metadata": {},
   "outputs": [
    {
     "name": "stdout",
     "output_type": "stream",
     "text": [
      "[1, 2, 3, 5, 8]\n",
      "5\n",
      "[1, 2, 3, 5, 8]\n"
     ]
    }
   ],
   "source": [
    "class Fibonacci(Sequence):\n",
    "    def __init__(self, first_value, second_value):\n",
    "#         self.arr = [first_value, second_value]\n",
    "        Sequence.__init__(self, [first_value, second_value])\n",
    "    \n",
    "    def __call__(self, length):\n",
    "        if length <=2:\n",
    "            return self.arr[:length]\n",
    "        else:\n",
    "            for _ in range(length-2):\n",
    "                self.arr.append(self.arr[-1] + self.arr[-2])\n",
    "            return self.arr\n",
    "    def __iter__(self):\n",
    "        return iterator(self)\n",
    "    \n",
    "    def __len__(self):\n",
    "        return len(self.arr)\n",
    "\n",
    "# similar way as show in the slide No. 83 of OOP\n",
    "class iterator:\n",
    "    \n",
    "    def __init__(self, obj):\n",
    "        self.items = obj.arr\n",
    "        self.index = -1\n",
    "    \n",
    "    def __iter__(self):\n",
    "        return self\n",
    "    \n",
    "    def __next__(self):\n",
    "        self.index += 1\n",
    "        \n",
    "        if self.index < len(self.items):\n",
    "            return self.items[self.index]\n",
    "        else:\n",
    "            raise StopIteration\n",
    "            \n",
    "    next = __next__\n",
    "    \n",
    "FS = Fibonacci(first_value = 1, second_value = 2)   \n",
    "print(FS(length = 5))\n",
    "\n",
    "print(len(FS))\n",
    "\n",
    "print([n for n in FS])"
   ]
  },
  {
   "cell_type": "markdown",
   "id": "ba9cfbd3",
   "metadata": {},
   "source": [
    "### 5. Create a subclass of Sequence called Prime. Make it callable and iterable. "
   ]
  },
  {
   "cell_type": "code",
   "execution_count": 6,
   "id": "101db918",
   "metadata": {},
   "outputs": [
    {
     "name": "stdout",
     "output_type": "stream",
     "text": [
      "[2, 3, 5, 7, 11, 13, 17, 19]\n",
      "8\n",
      "[2, 3, 5, 7, 11, 13, 17, 19]\n"
     ]
    }
   ],
   "source": [
    "class Prime(Sequence):\n",
    "    def __init__(self):\n",
    "#         self.arr = []\n",
    "        Sequence.__init__(self, [])\n",
    "    \n",
    "    def __call__(self, length):\n",
    "        \n",
    "        if length <=1:\n",
    "            self.arr = [2]\n",
    "            return self.arr[:length]\n",
    "        else:\n",
    "            self.arr = [2]\n",
    "            for _ in range(length-1):\n",
    "                cur_val = self.arr[-1]\n",
    "                cur_count = 1\n",
    "                while cur_count != 0:\n",
    "                    cur_count = 0\n",
    "                    cur_val += 1\n",
    "                    for val in self.arr:\n",
    "                        if cur_val % val == 0:\n",
    "                            cur_count += 1\n",
    "                self.arr.append(cur_val)\n",
    "\n",
    "            return self.arr\n",
    "        \n",
    "    def __iter__(self):\n",
    "        return iterator(self)\n",
    "    \n",
    "    def __len__(self):\n",
    "        return len(self.arr)\n",
    "    \n",
    "PS = Prime()\n",
    "print(PS(length = 8))\n",
    "\n",
    "print(len(PS))\n",
    "\n",
    "print([n for n in PS])"
   ]
  },
  {
   "cell_type": "markdown",
   "id": "d96f3da7",
   "metadata": {},
   "source": [
    "### 6. Modify Squence class so two sequence can be compared by '>'"
   ]
  },
  {
   "cell_type": "code",
   "execution_count": 7,
   "id": "a4e8a1e2",
   "metadata": {},
   "outputs": [
    {
     "name": "stdout",
     "output_type": "stream",
     "text": [
      "2\n"
     ]
    }
   ],
   "source": [
    "class Sequence(object):\n",
    "    def __init__(self, arr):\n",
    "        self.arr = arr\n",
    "    \n",
    "    def __gt__(self, arr1):\n",
    "        if len(self.arr) == len(arr1):\n",
    "            count = 0\n",
    "            arr_1 = self.arr\n",
    "            arr_2 = arr1.arr\n",
    "            for i in range(len(arr_1)):\n",
    "                if arr_1[i] > arr_2[i]:\n",
    "                    count += 1\n",
    "            return count\n",
    "        else:\n",
    "            raise ValueError('Please make sure they are of the same length')\n",
    "        \n",
    "        \n",
    "class Fibonacci(Sequence):\n",
    "    def __init__(self, first_value, second_value):\n",
    "#         self.arr = [first_value, second_value]\n",
    "        Sequence.__init__(self, [first_value, second_value])\n",
    "    \n",
    "    def __call__(self, length):\n",
    "        if length <=2:\n",
    "            return self.arr[:length]\n",
    "        else:\n",
    "            for _ in range(length-2):\n",
    "                self.arr.append(self.arr[-1] + self.arr[-2])\n",
    "            return self.arr\n",
    "    def __iter__(self):\n",
    "        return iterator(self)\n",
    "    \n",
    "    def __len__(self):\n",
    "        return len(self.arr)\n",
    "\n",
    "class iterator:\n",
    "    \n",
    "    def __init__(self, obj):\n",
    "        self.items = obj.arr\n",
    "        self.index = -1\n",
    "    \n",
    "    def __iter__(self):\n",
    "        return self\n",
    "    \n",
    "    def __next__(self):\n",
    "        self.index += 1\n",
    "        \n",
    "        if self.index < len(self.items):\n",
    "            return self.items[self.index]\n",
    "        else:\n",
    "            raise StopIteration\n",
    "            \n",
    "    next = __next__\n",
    "\n",
    "class Prime(Sequence):\n",
    "    def __init__(self):\n",
    "#         self.arr = []\n",
    "        Sequence.__init__(self, [])\n",
    "    \n",
    "    def __call__(self, length):\n",
    "        \n",
    "        if length <=1:\n",
    "            self.arr = [2]\n",
    "            return self.arr[:length]\n",
    "        else:\n",
    "            self.arr = [2]\n",
    "            for _ in range(length-1):\n",
    "                cur_val = self.arr[-1]\n",
    "                cur_count = 1\n",
    "                while cur_count != 0:\n",
    "                    cur_count = 0\n",
    "                    cur_val += 1\n",
    "                    for val in self.arr:\n",
    "                        if cur_val % val == 0:\n",
    "                            cur_count += 1\n",
    "                self.arr.append(cur_val)\n",
    "\n",
    "            return self.arr\n",
    "        \n",
    "    def __iter__(self):\n",
    "        return iterator(self)\n",
    "    \n",
    "    def __len__(self):\n",
    "        return len(self.arr)\n",
    "\n",
    "FS = Fibonacci ( first_value =1, second_value =2)\n",
    "FS(length = 8)\n",
    "\n",
    "PS = Prime()\n",
    "PS(length = 8)\n",
    "\n",
    "print(FS > PS)"
   ]
  },
  {
   "cell_type": "markdown",
   "id": "68571326",
   "metadata": {},
   "source": [
    "### Raise error when the length of two arrays are different"
   ]
  },
  {
   "cell_type": "code",
   "execution_count": 8,
   "id": "a4b98f67",
   "metadata": {},
   "outputs": [
    {
     "ename": "ValueError",
     "evalue": "Please make sure they are of the same length",
     "output_type": "error",
     "traceback": [
      "\u001b[1;31m---------------------------------------------------------------------------\u001b[0m",
      "\u001b[1;31mValueError\u001b[0m                                Traceback (most recent call last)",
      "\u001b[1;32mC:\\conda_tmp\\ipykernel_9488\\2648984847.py\u001b[0m in \u001b[0;36m<module>\u001b[1;34m\u001b[0m\n\u001b[0;32m      1\u001b[0m \u001b[0mPS\u001b[0m\u001b[1;33m(\u001b[0m\u001b[0mlength\u001b[0m \u001b[1;33m=\u001b[0m \u001b[1;36m5\u001b[0m\u001b[1;33m)\u001b[0m\u001b[1;33m\u001b[0m\u001b[1;33m\u001b[0m\u001b[0m\n\u001b[1;32m----> 2\u001b[1;33m \u001b[0mprint\u001b[0m\u001b[1;33m(\u001b[0m\u001b[0mFS\u001b[0m \u001b[1;33m>\u001b[0m \u001b[0mPS\u001b[0m\u001b[1;33m)\u001b[0m\u001b[1;33m\u001b[0m\u001b[1;33m\u001b[0m\u001b[0m\n\u001b[0m",
      "\u001b[1;32mC:\\conda_tmp\\ipykernel_9488\\2566896220.py\u001b[0m in \u001b[0;36m__gt__\u001b[1;34m(self, arr1)\u001b[0m\n\u001b[0;32m     13\u001b[0m             \u001b[1;32mreturn\u001b[0m \u001b[0mcount\u001b[0m\u001b[1;33m\u001b[0m\u001b[1;33m\u001b[0m\u001b[0m\n\u001b[0;32m     14\u001b[0m         \u001b[1;32melse\u001b[0m\u001b[1;33m:\u001b[0m\u001b[1;33m\u001b[0m\u001b[1;33m\u001b[0m\u001b[0m\n\u001b[1;32m---> 15\u001b[1;33m             \u001b[1;32mraise\u001b[0m \u001b[0mValueError\u001b[0m\u001b[1;33m(\u001b[0m\u001b[1;34m'Please make sure they are of the same length'\u001b[0m\u001b[1;33m)\u001b[0m\u001b[1;33m\u001b[0m\u001b[1;33m\u001b[0m\u001b[0m\n\u001b[0m\u001b[0;32m     16\u001b[0m \u001b[1;33m\u001b[0m\u001b[0m\n\u001b[0;32m     17\u001b[0m \u001b[1;33m\u001b[0m\u001b[0m\n",
      "\u001b[1;31mValueError\u001b[0m: Please make sure they are of the same length"
     ]
    }
   ],
   "source": [
    "PS(length = 5)\n",
    "print(FS > PS)"
   ]
  }
 ],
 "metadata": {
  "kernelspec": {
   "display_name": "Python 3 (ipykernel)",
   "language": "python",
   "name": "python3"
  },
  "language_info": {
   "codemirror_mode": {
    "name": "ipython",
    "version": 3
   },
   "file_extension": ".py",
   "mimetype": "text/x-python",
   "name": "python",
   "nbconvert_exporter": "python",
   "pygments_lexer": "ipython3",
   "version": "3.7.6"
  }
 },
 "nbformat": 4,
 "nbformat_minor": 5
}
